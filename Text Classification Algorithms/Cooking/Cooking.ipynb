{
  "nbformat": 4,
  "nbformat_minor": 0,
  "metadata": {
    "colab": {
      "name": "Cooking.ipynb",
      "provenance": [],
      "collapsed_sections": [],
      "authorship_tag": "ABX9TyN52kNFLwC4vWOOo0rvwRhb",
      "include_colab_link": true
    },
    "kernelspec": {
      "name": "python3",
      "display_name": "Python 3"
    }
  },
  "cells": [
    {
      "cell_type": "markdown",
      "metadata": {
        "id": "view-in-github",
        "colab_type": "text"
      },
      "source": [
        "<a href=\"https://colab.research.google.com/github/JamesUMD/Kaggle/blob/main/Cooking/Cooking.ipynb\" target=\"_parent\"><img src=\"https://colab.research.google.com/assets/colab-badge.svg\" alt=\"Open In Colab\"/></a>"
      ]
    },
    {
      "cell_type": "code",
      "metadata": {
        "colab": {
          "base_uri": "https://localhost:8080/"
        },
        "id": "oPx_opPxLBT4",
        "outputId": "1c42a947-8891-4d80-8b8d-b5cf10054fb7"
      },
      "source": [
        "#Import of Libraries\n",
        "\n",
        "# data analysis and wrangling\n",
        "import pandas as pd\n",
        "import numpy as np\n",
        "import random as rnd\n",
        "from collections import  Counter\n",
        "import gensim\n",
        "import string\n",
        "import re\n",
        "from tqdm import tqdm\n",
        "\n",
        "# visualization\n",
        "import seaborn as sns\n",
        "import matplotlib.pyplot as plt\n",
        "%matplotlib inline\n",
        "plt.style.use('ggplot')\n",
        "\n",
        "# machine learning\n",
        "from sklearn.linear_model import LogisticRegression\n",
        "from sklearn.svm import SVC, LinearSVC\n",
        "from sklearn.ensemble import RandomForestClassifier\n",
        "from sklearn.neighbors import KNeighborsClassifier\n",
        "from sklearn.naive_bayes import GaussianNB\n",
        "from sklearn.linear_model import Perceptron\n",
        "from sklearn.linear_model import SGDClassifier\n",
        "from sklearn.tree import DecisionTreeClassifier\n",
        "from sklearn.preprocessing import OneHotEncoder, LabelEncoder\n",
        "\n",
        "# Nueral Networks\n",
        "import tensorflow as tf\n",
        "import keras\n",
        "from keras.models import Sequential\n",
        "from keras.layers import Dropout\n",
        "from tensorflow.keras.optimizers import RMSprop\n",
        "from tensorflow.keras.optimizers import SGD\n",
        "from tensorflow.keras.optimizers import Adam\n",
        "from keras.layers import Embedding,LSTM,Dense,SpatialDropout1D, Dropout\n",
        "from keras.initializers import Constant\n",
        "from sklearn.model_selection import train_test_split\n",
        "\n",
        "#NLP\n",
        "from nltk.corpus import stopwords\n",
        "from nltk.util import ngrams\n",
        "from sklearn.feature_extraction.text import CountVectorizer\n",
        "from collections import defaultdict\n",
        "import nltk\n",
        "nltk.download('stopwords')\n",
        "stop = set(stopwords.words('english'))\n",
        "nltk.download('punkt')\n",
        "from nltk.tokenize import word_tokenize\n",
        "from keras.preprocessing.text import Tokenizer\n",
        "from keras.preprocessing.sequence import pad_sequences\n",
        "\n",
        "\n",
        "import warnings\n",
        "warnings.filterwarnings('ignore')\n",
        "warnings.simplefilter('ignore')"
      ],
      "execution_count": 154,
      "outputs": [
        {
          "output_type": "stream",
          "text": [
            "[nltk_data] Downloading package stopwords to /root/nltk_data...\n",
            "[nltk_data]   Package stopwords is already up-to-date!\n",
            "[nltk_data] Downloading package punkt to /root/nltk_data...\n",
            "[nltk_data]   Package punkt is already up-to-date!\n"
          ],
          "name": "stdout"
        }
      ]
    },
    {
      "cell_type": "code",
      "metadata": {
        "colab": {
          "base_uri": "https://localhost:8080/"
        },
        "id": "HPDNcSLbLEAx",
        "outputId": "7cbc88ac-b153-4742-bff2-9a31849d9899"
      },
      "source": [
        "#import of Data\n",
        "train = pd.read_json('https://raw.githubusercontent.com/JamesUMD/Kaggle/main/Cooking/train.json')\n",
        "test = pd.read_json('https://raw.githubusercontent.com/JamesUMD/Kaggle/main/Cooking/test.json')\n",
        "train.info()\n",
        "test.info()\n",
        "\n",
        "print(train.head(10))\n",
        "print(test.head(10))"
      ],
      "execution_count": 155,
      "outputs": [
        {
          "output_type": "stream",
          "text": [
            "<class 'pandas.core.frame.DataFrame'>\n",
            "RangeIndex: 39774 entries, 0 to 39773\n",
            "Data columns (total 3 columns):\n",
            " #   Column       Non-Null Count  Dtype \n",
            "---  ------       --------------  ----- \n",
            " 0   id           39774 non-null  int64 \n",
            " 1   cuisine      39774 non-null  object\n",
            " 2   ingredients  39774 non-null  object\n",
            "dtypes: int64(1), object(2)\n",
            "memory usage: 932.3+ KB\n",
            "<class 'pandas.core.frame.DataFrame'>\n",
            "RangeIndex: 9944 entries, 0 to 9943\n",
            "Data columns (total 2 columns):\n",
            " #   Column       Non-Null Count  Dtype \n",
            "---  ------       --------------  ----- \n",
            " 0   id           9944 non-null   int64 \n",
            " 1   ingredients  9944 non-null   object\n",
            "dtypes: int64(1), object(1)\n",
            "memory usage: 155.5+ KB\n",
            "      id      cuisine                                        ingredients\n",
            "0  10259        greek  [romaine lettuce, black olives, grape tomatoes...\n",
            "1  25693  southern_us  [plain flour, ground pepper, salt, tomatoes, g...\n",
            "2  20130     filipino  [eggs, pepper, salt, mayonaise, cooking oil, g...\n",
            "3  22213       indian                [water, vegetable oil, wheat, salt]\n",
            "4  13162       indian  [black pepper, shallots, cornflour, cayenne pe...\n",
            "5   6602     jamaican  [plain flour, sugar, butter, eggs, fresh ginge...\n",
            "6  42779      spanish  [olive oil, salt, medium shrimp, pepper, garli...\n",
            "7   3735      italian  [sugar, pistachio nuts, white almond bark, flo...\n",
            "8  16903      mexican  [olive oil, purple onion, fresh pineapple, por...\n",
            "9  12734      italian  [chopped tomatoes, fresh basil, garlic, extra-...\n",
            "      id                                        ingredients\n",
            "0  18009  [baking powder, eggs, all-purpose flour, raisi...\n",
            "1  28583  [sugar, egg yolks, corn starch, cream of tarta...\n",
            "2  41580  [sausage links, fennel bulb, fronds, olive oil...\n",
            "3  29752  [meat cuts, file powder, smoked sausage, okra,...\n",
            "4  35687  [ground black pepper, salt, sausage casings, l...\n",
            "5  38527  [baking powder, all-purpose flour, peach slice...\n",
            "6  19666             [grape juice, orange, white zinfandel]\n",
            "7  41217  [ground ginger, white pepper, green onions, or...\n",
            "8  28753  [diced onions, taco seasoning mix, all-purpose...\n",
            "9  22659  [eggs, cherries, dates, dark muscovado sugar, ...\n"
          ],
          "name": "stdout"
        }
      ]
    },
    {
      "cell_type": "code",
      "metadata": {
        "colab": {
          "base_uri": "https://localhost:8080/"
        },
        "id": "vWPX4U14QYpQ",
        "outputId": "175cd510-7961-41c7-e73d-9bb4385ce226"
      },
      "source": [
        "# How many ingredients in a dish\n",
        "print('Maximum Number of Ingredients in a Dish: ',train['ingredients'].str.len().max())\n",
        "print('Minimum Number of Ingredients in a Dish: ',train['ingredients'].str.len().min())\n",
        "\n",
        "#Seperate ingredients\n",
        "train['seperated_ingredients'] = train['ingredients'].apply(','.join)\n",
        "test['seperated_ingredients'] = test['ingredients'].apply(','.join)"
      ],
      "execution_count": 156,
      "outputs": [
        {
          "output_type": "stream",
          "text": [
            "Maximum Number of Ingredients in a Dish:  65\n",
            "Minimum Number of Ingredients in a Dish:  1\n"
          ],
          "name": "stdout"
        }
      ]
    },
    {
      "cell_type": "code",
      "metadata": {
        "colab": {
          "base_uri": "https://localhost:8080/"
        },
        "id": "Wj2BhiciRPH6",
        "outputId": "e779bfb1-d693-4df3-a782-f9c0cf78d3bc"
      },
      "source": [
        "# Null Values\n",
        "\n",
        "print('Train Columns with null values:\\n', train.isnull().sum())\n",
        "print('Test Columns with null values:\\n', test.isnull().sum())"
      ],
      "execution_count": 157,
      "outputs": [
        {
          "output_type": "stream",
          "text": [
            "Train Columns with null values:\n",
            " id                       0\n",
            "cuisine                  0\n",
            "ingredients              0\n",
            "seperated_ingredients    0\n",
            "dtype: int64\n",
            "Test Columns with null values:\n",
            " id                       0\n",
            "ingredients              0\n",
            "seperated_ingredients    0\n",
            "dtype: int64\n"
          ],
          "name": "stdout"
        }
      ]
    },
    {
      "cell_type": "code",
      "metadata": {
        "colab": {
          "base_uri": "https://localhost:8080/",
          "height": 608
        },
        "id": "MCnpNBD1Nqlf",
        "outputId": "00d8f9e5-a907-40d7-db0f-befe6bd2760d"
      },
      "source": [
        "#Class distribution\n",
        "\n",
        "dis = train.cuisine.value_counts()\n",
        "sns.barplot(dis.index, dis)\n",
        "plt.gcf().set_size_inches(20, 10)\n",
        "plt.gca().set_ylabel('cuisine')"
      ],
      "execution_count": 158,
      "outputs": [
        {
          "output_type": "execute_result",
          "data": {
            "text/plain": [
              "Text(0, 0.5, 'cuisine')"
            ]
          },
          "metadata": {
            "tags": []
          },
          "execution_count": 158
        },
        {
          "output_type": "display_data",
          "data": {
            "image/png": "[encoded data removed]",
            "text/plain": [
              "<Figure size 1440x720 with 1 Axes>"
            ]
          },
          "metadata": {
            "tags": []
          }
        }
      ]
    },
    {
      "cell_type": "code",
      "metadata": {
        "colab": {
          "base_uri": "https://localhost:8080/",
          "height": 516
        },
        "id": "kR0kK10eOz1s",
        "outputId": "4c0a2713-b1ab-41b3-cac5-13fb62565579"
      },
      "source": [
        "#Ingrident distribution per dish\n",
        "plt.hist(train['ingredients'].str.len(),bins=max(train['ingredients'].str.len()),edgecolor='b')\n",
        "plt.gcf().set_size_inches(16,8)\n",
        "plt.title('Ingredients in a Dish Distribution')"
      ],
      "execution_count": 159,
      "outputs": [
        {
          "output_type": "execute_result",
          "data": {
            "text/plain": [
              "Text(0.5, 1.0, 'Ingredients in a Dish Distribution')"
            ]
          },
          "metadata": {
            "tags": []
          },
          "execution_count": 159
        },
        {
          "output_type": "display_data",
          "data": {
            "image/png": "[encoded data removed]",
            "text/plain": [
              "<Figure size 1152x576 with 1 Axes>"
            ]
          },
          "metadata": {
            "tags": []
          }
        }
      ]
    },
    {
      "cell_type": "code",
      "metadata": {
        "id": "aQw-JvyLaE2e"
      },
      "source": [
        "# Commonly Used ingredienits \n",
        "\n",
        "allingredients = [] # this list stores all the ingredients in all recipes (with duplicates)\n",
        "for item in train['ingredients']:\n",
        "    for ingr in item:\n",
        "        allingredients.append(ingr) "
      ],
      "execution_count": 160,
      "outputs": []
    },
    {
      "cell_type": "code",
      "metadata": {
        "id": "r3ZE3BKcaU2C"
      },
      "source": [
        "# Count how many times each ingredient occurs\n",
        "countingr = Counter()\n",
        "for ingr in allingredients:\n",
        "     countingr[ingr] += 1"
      ],
      "execution_count": 161,
      "outputs": []
    },
    {
      "cell_type": "code",
      "metadata": {
        "colab": {
          "base_uri": "https://localhost:8080/"
        },
        "id": "AbQz0e8CaU5h",
        "outputId": "8a981e33-2531-4668-ad05-a8ad7124bb29"
      },
      "source": [
        "print(\"The most commonly used ingredients are:\")\n",
        "print(\"\\n\")\n",
        "print(countingr.most_common(20))\n",
        "print(\"\\n\")\n",
        "print(\"The number of unique ingredients in our training sample is {}.\".format(len(countingr)))"
      ],
      "execution_count": 162,
      "outputs": [
        {
          "output_type": "stream",
          "text": [
            "The most commonly used ingredients are:\n",
            "\n",
            "\n",
            "[('salt', 18049), ('onions', 7972), ('olive oil', 7972), ('water', 7457), ('garlic', 7380), ('sugar', 6434), ('garlic cloves', 6237), ('butter', 4848), ('ground black pepper', 4785), ('all-purpose flour', 4632), ('pepper', 4438), ('vegetable oil', 4385), ('eggs', 3388), ('soy sauce', 3296), ('kosher salt', 3113), ('green onions', 3078), ('tomatoes', 3058), ('large eggs', 2948), ('carrots', 2814), ('unsalted butter', 2782)]\n",
            "\n",
            "\n",
            "The number of unique ingredients in our training sample is 6714.\n"
          ],
          "name": "stdout"
        }
      ]
    },
    {
      "cell_type": "markdown",
      "metadata": {
        "id": "xMwBxOJna_1h"
      },
      "source": [
        "** Model**\n",
        "\n",
        "\n",
        "---\n",
        "\n"
      ]
    },
    {
      "cell_type": "code",
      "metadata": {
        "id": "A_FAbD3s8GlL"
      },
      "source": [
        "from sklearn.feature_extraction.text import TfidfVectorizer\n",
        "\n",
        "vect = TfidfVectorizer(binary=True).fit(train['seperated_ingredients'])\n",
        "X = vect.transform(train['seperated_ingredients'])\n",
        "y = vect.transform(test['seperated_ingredients'])\n",
        "\n",
        "from sklearn.preprocessing import LabelEncoder\n",
        "\n",
        "encoder = LabelEncoder()\n",
        "y = encoder.fit_transform(train.cuisine)"
      ],
      "execution_count": 163,
      "outputs": []
    },
    {
      "cell_type": "code",
      "metadata": {
        "colab": {
          "base_uri": "https://localhost:8080/"
        },
        "id": "QI9ZjFL5rCGq",
        "outputId": "ffe9579b-1aea-471a-e153-1ba5dee3091f"
      },
      "source": [
        "X_train, X_test, y_train, y_test = train_test_split(X, y, random_state = 0)\r\n",
        "\r\n",
        "\r\n",
        "#Random Forest \r\n",
        "random_forest = RandomForestClassifier(n_estimators=100)\r\n",
        "random_forest.fit(X_train, y_train)\r\n",
        "Y_pred = random_forest.predict(X_test)\r\n",
        "random_forest.score(X_train, y_train)\r\n",
        "acc_random_forest = round(random_forest.score(X_train, y_train) * 100, 2)\r\n",
        "acc_random_forest"
      ],
      "execution_count": 165,
      "outputs": [
        {
          "output_type": "execute_result",
          "data": {
            "text/plain": [
              "99.96"
            ]
          },
          "metadata": {
            "tags": []
          },
          "execution_count": 165
        }
      ]
    }
  ]
}